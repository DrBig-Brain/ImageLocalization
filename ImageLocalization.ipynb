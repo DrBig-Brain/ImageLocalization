{
 "cells": [
  {
   "cell_type": "code",
   "execution_count": 7,
   "id": "70b11400",
   "metadata": {},
   "outputs": [],
   "source": [
    "import tensorflow as tf \n",
    "from tensorflow import keras\n",
    "import numpy as np \n",
    "import pandas as pd \n",
    "import matplotlib.pyplot as plt \n",
    "from tensorflow.keras.utils import plot_model"
   ]
  },
  {
   "cell_type": "code",
   "execution_count": 4,
   "id": "53895743",
   "metadata": {},
   "outputs": [],
   "source": [
    "from keras.layers import Flatten, Dense\n",
    "from keras.models import Model"
   ]
  },
  {
   "cell_type": "code",
   "execution_count": 12,
   "id": "6661daca",
   "metadata": {},
   "outputs": [],
   "source": [
    "from keras.applications import VGG16\n",
    "vgg16 = VGG16(input_shape=(128,128,3),include_top = False, weights = 'imagenet')\n",
    "vgg16.trainable=False\n",
    "x = Flatten()(vgg16.output)\n",
    "x = Dense(3,activation='sigmoid')(x)\n",
    "model = Model(inputs = vgg16.input , outputs = x)\n",
    "model.compile(optimizer='Adam',loss = 'binary_crossentropy',metrics=['accuracy'])"
   ]
  },
  {
   "cell_type": "code",
   "execution_count": 13,
   "id": "c1ec7aff",
   "metadata": {},
   "outputs": [
    {
     "data": {
      "text/plain": [
       "<matplotlib.image.AxesImage at 0x1d03fc42b10>"
      ]
     },
     "execution_count": 13,
     "metadata": {},
     "output_type": "execute_result"
    },
    {
     "data": {
      "image/png": "[encoded data removed]",
      "text/plain": [
       "<Figure size 640x480 with 1 Axes>"
      ]
     },
     "metadata": {},
     "output_type": "display_data"
    }
   ],
   "source": [
    "\n",
    "from matplotlib.patches import Circle\n",
    "\n",
    "def synthetic_gen(batch_size=64):\n",
    "  # enable generating infinite amount of batches\n",
    "  while True:\n",
    "      # generate black images in the wanted size\n",
    "      X = np.zeros((batch_size, 128, 128, 3))\n",
    "      Y = np.zeros((batch_size, 3))\n",
    "      # fill each image\n",
    "      for i in range(batch_size):\n",
    "        x = np.random.randint(8,120)\n",
    "        y = np.random.randint(8,120)\n",
    "        a = min(128 - max(x,y), min(x,y))\n",
    "        r = np.random.randint(4,a)\n",
    "        for x_i in range(128):\n",
    "          for y_i in range(128):\n",
    "            if ((x_i - x)**2) + ((y_i - y)**2) < r**2:\n",
    "              X[i, x_i, y_i,:] = 1\n",
    "        Y[i,0] = (x-r)/128.\n",
    "        Y[i,1] = (y-r)/128.\n",
    "        Y[i,2] = 2*r / 128.\n",
    "      yield X, Y\n",
    "\n",
    "# sanity check - plot the images\n",
    "x,y = next(synthetic_gen())\n",
    "plt.imshow(x[0])"
   ]
  },
  {
   "cell_type": "code",
   "execution_count": 16,
   "id": "5381723d",
   "metadata": {},
   "outputs": [
    {
     "name": "stdout",
     "output_type": "stream",
     "text": [
      "Epoch 1/5\n",
      "\u001b[1m64/64\u001b[0m \u001b[32m━━━━━━━━━━━━━━━━━━━━\u001b[0m\u001b[37m\u001b[0m \u001b[1m84s\u001b[0m 1s/step - accuracy: 0.8102 - loss: 0.5429\n",
      "Epoch 2/5\n",
      "\u001b[1m64/64\u001b[0m \u001b[32m━━━━━━━━━━━━━━━━━━━━\u001b[0m\u001b[37m\u001b[0m \u001b[1m85s\u001b[0m 1s/step - accuracy: 0.9478 - loss: 0.4993\n",
      "Epoch 3/5\n",
      "\u001b[1m64/64\u001b[0m \u001b[32m━━━━━━━━━━━━━━━━━━━━\u001b[0m\u001b[37m\u001b[0m \u001b[1m86s\u001b[0m 1s/step - accuracy: 0.9598 - loss: 0.4942\n",
      "Epoch 4/5\n",
      "\u001b[1m64/64\u001b[0m \u001b[32m━━━━━━━━━━━━━━━━━━━━\u001b[0m\u001b[37m\u001b[0m \u001b[1m90s\u001b[0m 1s/step - accuracy: 0.9710 - loss: 0.4943\n",
      "Epoch 5/5\n",
      "\u001b[1m64/64\u001b[0m \u001b[32m━━━━━━━━━━━━━━━━━━━━\u001b[0m\u001b[37m\u001b[0m \u001b[1m94s\u001b[0m 1s/step - accuracy: 0.9691 - loss: 0.4927\n"
     ]
    },
    {
     "data": {
      "text/plain": [
       "<keras.src.callbacks.history.History at 0x1d03fbb04d0>"
      ]
     },
     "execution_count": 16,
     "metadata": {},
     "output_type": "execute_result"
    }
   ],
   "source": [
    "model.fit(synthetic_gen(),steps_per_epoch=64,epochs=5)"
   ]
  },
  {
   "cell_type": "code",
   "execution_count": 18,
   "id": "f7ea8d10",
   "metadata": {},
   "outputs": [
    {
     "name": "stdout",
     "output_type": "stream",
     "text": [
      "\u001b[1m2/2\u001b[0m \u001b[32m━━━━━━━━━━━━━━━━━━━━\u001b[0m\u001b[37m\u001b[0m \u001b[1m1s\u001b[0m 543ms/step\n"
     ]
    },
    {
     "data": {
      "image/png": "[encoded data removed]",
      "text/plain": [
       "<Figure size 640x480 with 1 Axes>"
      ]
     },
     "metadata": {},
     "output_type": "display_data"
    }
   ],
   "source": [
    "\n",
    "from matplotlib.patches import Rectangle\n",
    "\n",
    "# given image and a label, plots the image + rectangle\n",
    "def plot_pred(img,p):\n",
    "  fig, ax = plt.subplots(1)\n",
    "  ax.imshow(img)\n",
    "  rect = Rectangle(xy=(p[1]*128,p[0]*128),width=p[2]*128, height=p[2]*128, linewidth=1,edgecolor='g',facecolor='none')\n",
    "  ax.add_patch(rect)\n",
    "  plt.show()\n",
    "\n",
    "\n",
    "# generate new image\n",
    "x, _ = next(synthetic_gen())\n",
    "# predict\n",
    "pred = model.predict(x)\n",
    "# examine 1 image\n",
    "im = x[0]\n",
    "p = pred[0]\n",
    "plot_pred(im,p)"
   ]
  },
  {
   "cell_type": "code",
   "execution_count": 21,
   "id": "05c063dd",
   "metadata": {},
   "outputs": [
    {
     "data": {
      "text/plain": [
       "(64, 3)"
      ]
     },
     "execution_count": 21,
     "metadata": {},
     "output_type": "execute_result"
    }
   ],
   "source": [
    "pred.shape"
   ]
  },
  {
   "cell_type": "code",
   "execution_count": 24,
   "id": "6c59d95b",
   "metadata": {},
   "outputs": [
    {
     "data": {
      "text/plain": [
       "(64, 128, 128, 3)"
      ]
     },
     "execution_count": 24,
     "metadata": {},
     "output_type": "execute_result"
    }
   ],
   "source": [
    "x.shape"
   ]
  },
  {
   "cell_type": "code",
   "execution_count": null,
   "id": "063ee03d",
   "metadata": {},
   "outputs": [],
   "source": []
  }
 ],
 "metadata": {
  "kernelspec": {
   "display_name": "Python 3",
   "language": "python",
   "name": "python3"
  },
  "language_info": {
   "codemirror_mode": {
    "name": "ipython",
    "version": 3
   },
   "file_extension": ".py",
   "mimetype": "text/x-python",
   "name": "python",
   "nbconvert_exporter": "python",
   "pygments_lexer": "ipython3",
   "version": "3.12.6"
  }
 },
 "nbformat": 4,
 "nbformat_minor": 5
}
